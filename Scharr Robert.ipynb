{
 "cells": [
  {
   "cell_type": "code",
   "execution_count": 1,
   "id": "6de0cc1c-e6ff-4948-ad9a-7313edeb1b11",
   "metadata": {},
   "outputs": [
    {
     "ename": "error",
     "evalue": "OpenCV(4.12.0) D:\\a\\opencv-python\\opencv-python\\opencv\\modules\\imgproc\\src\\deriv.cpp:392: error: (-215:Assertion failed) !_src.empty() in function 'cv::Scharr'\n",
     "output_type": "error",
     "traceback": [
      "\u001b[1;31m---------------------------------------------------------------------------\u001b[0m",
      "\u001b[1;31merror\u001b[0m                                     Traceback (most recent call last)",
      "Cell \u001b[1;32mIn[1], line 5\u001b[0m\n\u001b[0;32m      3\u001b[0m \u001b[38;5;28;01mimport\u001b[39;00m\u001b[38;5;250m \u001b[39m\u001b[38;5;21;01mmatplotlib\u001b[39;00m\u001b[38;5;21;01m.\u001b[39;00m\u001b[38;5;21;01mpyplot\u001b[39;00m\u001b[38;5;250m \u001b[39m\u001b[38;5;28;01mas\u001b[39;00m\u001b[38;5;250m \u001b[39m\u001b[38;5;21;01mplt\u001b[39;00m \n\u001b[0;32m      4\u001b[0m img \u001b[38;5;241m=\u001b[39m cv\u001b[38;5;241m.\u001b[39mimread( \u001b[38;5;124m\"\u001b[39m\u001b[38;5;124mE:\u001b[39m\u001b[38;5;124m\\\u001b[39m\u001b[38;5;124mstudy5sem\u001b[39m\u001b[38;5;124m\\\u001b[39m\u001b[38;5;124mlab\u001b[39m\u001b[38;5;124m\\\u001b[39m\u001b[38;5;124mimages (1).jpg\u001b[39m\u001b[38;5;124m\"\u001b[39m, \u001b[38;5;241m0\u001b[39m) \n\u001b[1;32m----> 5\u001b[0m scharrx \u001b[38;5;241m=\u001b[39m cv\u001b[38;5;241m.\u001b[39mScharr(img, cv\u001b[38;5;241m.\u001b[39mCV_64F, \u001b[38;5;241m1\u001b[39m, \u001b[38;5;241m0\u001b[39m) \n\u001b[0;32m      6\u001b[0m scharry \u001b[38;5;241m=\u001b[39m cv\u001b[38;5;241m.\u001b[39mScharr(img, cv\u001b[38;5;241m.\u001b[39mCV_64F, \u001b[38;5;241m0\u001b[39m, \u001b[38;5;241m1\u001b[39m) \n\u001b[0;32m      7\u001b[0m scharr \u001b[38;5;241m=\u001b[39m np\u001b[38;5;241m.\u001b[39mhypot(scharrx, scharry) \n",
      "\u001b[1;31merror\u001b[0m: OpenCV(4.12.0) D:\\a\\opencv-python\\opencv-python\\opencv\\modules\\imgproc\\src\\deriv.cpp:392: error: (-215:Assertion failed) !_src.empty() in function 'cv::Scharr'\n"
     ]
    }
   ],
   "source": [
    "import cv2 as cv \n",
    "import numpy as np \n",
    "import matplotlib.pyplot as plt \n",
    "img = cv.imread( \"E:\\study5sem\\lab\\images (1).jpg\", 0) \n",
    "scharrx = cv.Scharr(img, cv.CV_64F, 1, 0) \n",
    "scharry = cv.Scharr(img, cv.CV_64F, 0, 1) \n",
    "scharr = np.hypot(scharrx, scharry) \n",
    "scharr = np.uint8(np.absolute(scharr)) \n",
    "plt.subplot(121) \n",
    "plt.imshow(img, cmap='gray') \n",
    "plt.title('Original') \n",
    "plt.xticks([]), plt.yticks([]) \n",
    "plt.subplot(122) \n",
    "plt.imshow(scharr, cmap='gray') \n",
    "plt.title('Scharr Edge Detection') \n",
    "plt.xticks([]), plt.yticks([]) \n",
    "plt.show()"
   ]
  },
  {
   "cell_type": "code",
   "execution_count": null,
   "id": "98930494-7c1b-4dae-899b-670a9673da04",
   "metadata": {},
   "outputs": [],
   "source": [
    "import cv2 as cv \n",
    "import numpy as np \n",
    "import matplotlib.pyplot as plt \n",
    "img = cv.imread(\"E:\\study5sem\\lab\\images (1).jpg\", 0) \n",
    "kernel_roberts_x = np.array([[1, 0], [0, -1]], dtype=np.float32) \n",
    "kernel_roberts_y = np.array([[0, 1], [-1, 0]], dtype=np.float32) \n",
    "roberts_x = cv.filter2D(img, cv.CV_64F, kernel_roberts_x) \n",
    "roberts_y = cv.filter2D(img, cv.CV_64F, kernel_roberts_y) \n",
    "roberts = np.sqrt(np.square(roberts_x) + np.square(roberts_y)) \n",
    "roberts = np.uint8(np.absolute(roberts)) \n",
    "plt.subplot(121), plt.imshow(img, cmap='gray') \n",
    "plt.title(\"Original\"), plt.xticks([]), plt.yticks([]) \n",
    "plt.subplot(122), plt.imshow(roberts, cmap='gray') \n",
    "plt.title(\"Roberts cross operator\"), plt.xticks([]), plt.yticks([]) \n",
    "plt.show()   \n"
   ]
  }
 ],
 "metadata": {
  "kernelspec": {
   "display_name": "Python 3 (ipykernel)",
   "language": "python",
   "name": "python3"
  },
  "language_info": {
   "codemirror_mode": {
    "name": "ipython",
    "version": 3
   },
   "file_extension": ".py",
   "mimetype": "text/x-python",
   "name": "python",
   "nbconvert_exporter": "python",
   "pygments_lexer": "ipython3",
   "version": "3.13.5"
  }
 },
 "nbformat": 4,
 "nbformat_minor": 5
}
