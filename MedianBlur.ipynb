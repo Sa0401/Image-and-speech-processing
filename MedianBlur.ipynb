{
 "cells": [
  {
   "cell_type": "code",
   "execution_count": null,
   "id": "e6cd805d-207f-48dd-b919-161cf68df47f",
   "metadata": {},
   "outputs": [],
   "source": [
    "import cv2 \n",
    "import numpy as np \n",
    "from matplotlib import pyplot as plt \n",
    "img = cv2.imread()\n",
    "img_rgb = cv2.cvtColor(img, cv2.COLOR_BGR2RGB) \n",
    "median = cv2.medianBlur(img, 5) \n",
    "median_rgb = cv2.cvtColor(median, cv2.COLOR_BGR2RGB) \n",
    "plt.figure(figsize=(10, 5)) \n",
    "plt.subplot(1, 2, 1) \n",
    "plt.imshow(img_rgb) \n",
    "plt.title('Original') \n",
    "plt.xticks([]), plt.yticks([]) \n",
    "plt.subplot(1, 2, 2) \n",
    "plt.imshow(median_rgb) \n",
    "plt.title('Median Blurred') \n",
    "plt.xticks([]), plt.yticks([]) \n",
    "plt.show() "
   ]
  }
 ],
 "metadata": {
  "kernelspec": {
   "display_name": "Python 3 (ipykernel)",
   "language": "python",
   "name": "python3"
  },
  "language_info": {
   "codemirror_mode": {
    "name": "ipython",
    "version": 3
   },
   "file_extension": ".py",
   "mimetype": "text/x-python",
   "name": "python",
   "nbconvert_exporter": "python",
   "pygments_lexer": "ipython3",
   "version": "3.13.5"
  }
 },
 "nbformat": 4,
 "nbformat_minor": 5
}
