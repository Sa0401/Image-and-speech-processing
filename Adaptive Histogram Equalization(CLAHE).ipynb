{
 "cells": [
  {
   "cell_type": "code",
   "execution_count": null,
   "id": "35adbe20-25ca-4cd2-b9f7-59a418cb957d",
   "metadata": {},
   "outputs": [],
   "source": [
    "import cv2 \n",
    "import matplotlib.pyplot as plt \n",
    "img = cv2.imread(\"E:\\study5sem\\lab\\download (1).jpg\") \n",
    "ycrcb = cv2.cvtColor(img, cv2.COLOR_BGR2YCrCb) \n",
    "clahe = cv2.createCLAHE(clipLimit=2.0, tileGridSize=(8,8)) \n",
    "ycrcb[:, :, 0] = clahe.apply(ycrcb[:, :, 0]) \n",
    "clahe_color = cv2.cvtColor(ycrcb, cv2.COLOR_YCrCb2BGR) \n",
    "plt.subplot(1, 2, 1) \n",
    "plt.imshow(cv2.cvtColor(img, cv2.COLOR_BGR2RGB)) \n",
    "plt.title(\"Original\") \n",
    "plt.subplot(1, 2, 2) \n",
    "plt.imshow(cv2.cvtColor(clahe_color, cv2.COLOR_BGR2RGB)) \n",
    "plt.title(\"CLAHE color\") \n",
    "plt.show() \n"
   ]
  }
 ],
 "metadata": {
  "kernelspec": {
   "display_name": "Python 3 (ipykernel)",
   "language": "python",
   "name": "python3"
  },
  "language_info": {
   "codemirror_mode": {
    "name": "ipython",
    "version": 3
   },
   "file_extension": ".py",
   "mimetype": "text/x-python",
   "name": "python",
   "nbconvert_exporter": "python",
   "pygments_lexer": "ipython3",
   "version": "3.13.5"
  }
 },
 "nbformat": 4,
 "nbformat_minor": 5
}
